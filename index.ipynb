{
 "cells": [
  {
   "cell_type": "code",
   "execution_count": null,
   "metadata": {},
   "outputs": [],
   "source": [
    "#hide"
   ]
  },
  {
   "cell_type": "markdown",
   "metadata": {},
   "source": [
    "# villaAuthSdk\n",
    "\n",
    "> interact with villa authentication backend"
   ]
  },
  {
   "cell_type": "markdown",
   "metadata": {},
   "source": [
    "## Install"
   ]
  },
  {
   "cell_type": "markdown",
   "metadata": {},
   "source": [
    "`pip install villaAuthSdk`"
   ]
  },
  {
   "cell_type": "markdown",
   "metadata": {},
   "source": [
    "## How to use"
   ]
  },
  {
   "cell_type": "markdown",
   "metadata": {},
   "source": [
    "create an auth object"
   ]
  },
  {
   "cell_type": "code",
   "execution_count": null,
   "metadata": {},
   "outputs": [],
   "source": [
    "from villaAuthSdk.auth import AuthSdk\n",
    "from nicHelper.dictUtil import printDict"
   ]
  },
  {
   "cell_type": "code",
   "execution_count": null,
   "metadata": {},
   "outputs": [],
   "source": [
    "sdk=AuthSdk(user=None,pw=None,region='ap-southeast-1')\n",
    "## user and pw here are the aws key/secret for your client"
   ]
  },
  {
   "cell_type": "markdown",
   "metadata": {},
   "source": [
    "## Create cashier"
   ]
  },
  {
   "cell_type": "code",
   "execution_count": null,
   "metadata": {},
   "outputs": [
    {
     "data": {
      "text/plain": [
       "{'success': True,\n",
       " 'user': 'nic1',\n",
       " 'phone': '+66816684442',\n",
       " 'pw': '12345678',\n",
       " 'name': 'nic',\n",
       " 'cashierCode': '001',\n",
       " 'email': 'test@gmail.com',\n",
       " 'body': '{\"Username\":\"nic1\",\"UserAttributes\":{\"sub\":\"f5aa60ba-0f65-45f3-b8f7-2a064e7e5311\",\"email_verified\":\"false\",\"name\":\"nic\",\"custom:cashierCode\":\"001\",\"phone_number_verified\":\"true\",\"phone_number\":\"+66816684442\",\"email\":\"test@gmail.com\"},\"UserCreateDate\":1606995525.734,\"UserLastModifiedDate\":1606995525.988,\"Enabled\":true,\"UserStatus\":\"CONFIRMED\",\"ResponseMetadata\":{\"RequestId\":\"6b2010b5-aabc-4d36-8e3e-0234da56f3ab\",\"HTTPStatusCode\":200,\"HTTPHeaders\":{\"date\":\"Thu, 03 Dec 2020 11:38:46 GMT\",\"content-type\":\"application\\\\/x-amz-json-1.1\",\"content-length\":\"467\",\"connection\":\"keep-alive\",\"x-amzn-requestid\":\"6b2010b5-aabc-4d36-8e3e-0234da56f3ab\"},\"RetryAttempts\":0}}',\n",
       " 'statusCode': 200,\n",
       " 'headers': {'Access-Control-Allow-Headers': '*',\n",
       "  'Access-Control-Allow-Origin': '*',\n",
       "  'Access-Control-Allow-Methods': '*'}}"
      ]
     },
     "execution_count": null,
     "metadata": {},
     "output_type": "execute_result"
    }
   ],
   "source": [
    "sdk.createCashier({\n",
    "  'user': 'nic1',\n",
    "  'phone': '+66816684442',\n",
    "  'pw': '12345678',\n",
    "  'name': 'nic',\n",
    "  'cashierCode': '001',\n",
    "  'email': 'test@gmail.com'\n",
    "})"
   ]
  },
  {
   "cell_type": "markdown",
   "metadata": {},
   "source": [
    "## login"
   ]
  },
  {
   "cell_type": "code",
   "execution_count": null,
   "metadata": {},
   "outputs": [
    {
     "name": "stdout",
     "output_type": "stream",
     "text": [
      "AccessKeyId : ASIAVX4Z5T\n",
      "SecretKey : zTt7RyFFji\n",
      "SessionToken : IQoJb3JpZ2\n",
      "Expiration : 1606999129.0\n",
      "AccessToken : eyJraWQiOi\n",
      "ExpiresIn : 3600\n",
      "TokenType : Bearer\n",
      "RefreshToken : eyJjdHkiOi\n",
      "IdToken : eyJraWQiOi\n",
      "NewDeviceMetadata\n",
      " DeviceKey : ap-southea\n",
      " DeviceGroupKey : -lt0cpemm\n",
      "userInfo\n",
      " Username : nic1\n",
      " UserCreateDate : 1606995525.734\n",
      " UserLastModifiedDate : 1606995525.988\n",
      " Enabled : True\n",
      " UserStatus : CONFIRMED\n",
      " ResponseMetadata\n",
      "  RequestId : 44425d05-8\n",
      "  HTTPStatusCode : 200\n",
      "  HTTPHeaders\n",
      "   date : Thu, 03 De\n",
      "   content-type : applicatio\n",
      "   content-length : 467\n",
      "   connection : keep-alive\n",
      "   x-amzn-requestid : 44425d05-8\n",
      "  RetryAttempts : 0\n",
      "kwUserAttrib\n",
      " sub : f5aa60ba-0\n",
      " email_verified : false\n",
      " name : nic\n",
      " custom:cashierCode : 001\n",
      " phone_number_verified : true\n",
      " phone_number : +668166844\n",
      " email : test@gmail\n"
     ]
    }
   ],
   "source": [
    "result = sdk.auth(user='nic1',pw='12345678')\n",
    "printDict(result)"
   ]
  },
  {
   "cell_type": "markdown",
   "metadata": {},
   "source": [
    "# Confirm\n",
    "confirm phone/email"
   ]
  },
  {
   "cell_type": "code",
   "execution_count": null,
   "metadata": {},
   "outputs": [
    {
     "name": "stdout",
     "output_type": "stream",
     "text": [
      "error\n",
      " pickledb64string : gASVTQUAAA\n",
      " error : confirmati\n"
     ]
    }
   ],
   "source": [
    "result=sdk.confirm(user='nic1', code= '123')\n",
    "printDict(result)"
   ]
  },
  {
   "cell_type": "markdown",
   "metadata": {},
   "source": [
    "## Get Profile"
   ]
  },
  {
   "cell_type": "code",
   "execution_count": null,
   "metadata": {},
   "outputs": [
    {
     "name": "stdout",
     "output_type": "stream",
     "text": [
      "Username : nic1\n",
      "UserAttributes\n",
      " sub : f5aa60ba-0\n",
      " email_verified : false\n",
      " name : nic\n",
      " custom:cashierCode : 001\n",
      " phone_number_verified : true\n",
      " phone_number : +668166844\n",
      " email : test@gmail\n",
      "UserCreateDate : 1606995525.734\n",
      "UserLastModifiedDate : 1606995525.988\n",
      "Enabled : True\n",
      "UserStatus : CONFIRMED\n",
      "ResponseMetadata\n",
      " RequestId : 85a734ac-2\n",
      " HTTPStatusCode : 200\n",
      " HTTPHeaders\n",
      "  date : Thu, 03 De\n",
      "  content-type : applicatio\n",
      "  content-length : 467\n",
      "  connection : keep-alive\n",
      "  x-amzn-requestid : 85a734ac-2\n",
      " RetryAttempts : 0\n"
     ]
    }
   ],
   "source": [
    "result=sdk.getProfile('nic1')\n",
    "printDict(result)"
   ]
  },
  {
   "cell_type": "markdown",
   "metadata": {},
   "source": [
    "## update Profile"
   ]
  },
  {
   "cell_type": "code",
   "execution_count": null,
   "metadata": {},
   "outputs": [
    {
     "name": "stdout",
     "output_type": "stream",
     "text": [
      "Username : nic1\n",
      "UserAttributes\n",
      " sub : f5aa60ba-0\n",
      " email_verified : false\n",
      " name : nic\n",
      " custom:cashierCode : 1234\n",
      " phone_number_verified : true\n",
      " phone_number : +668166844\n",
      " email : test@gmail\n",
      "UserCreateDate : 1606995525.734\n",
      "UserLastModifiedDate : 1606995533.461\n",
      "Enabled : True\n",
      "UserStatus : CONFIRMED\n",
      "ResponseMetadata\n",
      " RequestId : ec6ffad2-1\n",
      " HTTPStatusCode : 200\n",
      " HTTPHeaders\n",
      "  date : Thu, 03 De\n",
      "  content-type : applicatio\n",
      "  content-length : 468\n",
      "  connection : keep-alive\n",
      "  x-amzn-requestid : ec6ffad2-1\n",
      " RetryAttempts : 0\n"
     ]
    }
   ],
   "source": [
    "result = sdk.updateProfile(\n",
    "  user= 'nic1',\n",
    "  attributes= {\n",
    "    'custom:cashierCode': '1234'\n",
    "  })\n",
    "printDict(result)"
   ]
  },
  {
   "cell_type": "markdown",
   "metadata": {},
   "source": [
    "## set password"
   ]
  },
  {
   "cell_type": "code",
   "execution_count": null,
   "metadata": {},
   "outputs": [
    {
     "data": {
      "text/plain": [
       "{'ResponseMetadata': {'RequestId': 'e878f2d6-d1de-487c-8a0a-484072b82309',\n",
       "  'HTTPStatusCode': 200,\n",
       "  'HTTPHeaders': {'date': 'Thu, 03 Dec 2020 11:38:54 GMT',\n",
       "   'content-type': 'application/x-amz-json-1.1',\n",
       "   'content-length': '2',\n",
       "   'connection': 'keep-alive',\n",
       "   'x-amzn-requestid': 'e878f2d6-d1de-487c-8a0a-484072b82309'},\n",
       "  'RetryAttempts': 0}}"
      ]
     },
     "execution_count": null,
     "metadata": {},
     "output_type": "execute_result"
    }
   ],
   "source": [
    "sdk.setPassword(user='nic1',pw='12345678')"
   ]
  },
  {
   "cell_type": "markdown",
   "metadata": {},
   "source": [
    "## Unauth\n",
    "get unauthenticated credentials"
   ]
  },
  {
   "cell_type": "code",
   "execution_count": null,
   "metadata": {},
   "outputs": [
    {
     "name": "stdout",
     "output_type": "stream",
     "text": [
      "AccessKeyId : ASIAVX4Z5T\n",
      "SecretKey : UbsJ2mlM3z\n",
      "SessionToken : IQoJb3JpZ2\n",
      "Expiration : 1606999136.0\n"
     ]
    }
   ],
   "source": [
    "result = sdk.unauth()\n",
    "printDict(result)"
   ]
  },
  {
   "cell_type": "markdown",
   "metadata": {},
   "source": [
    "## DeleteUser"
   ]
  },
  {
   "cell_type": "code",
   "execution_count": null,
   "metadata": {},
   "outputs": [
    {
     "name": "stdout",
     "output_type": "stream",
     "text": [
      "ResponseMetadata\n",
      " RequestId : 7e3fc4ac-5\n",
      " HTTPStatusCode : 200\n",
      " HTTPHeaders\n",
      "  date : Thu, 03 De\n",
      "  content-type : applicatio\n",
      "  content-length : 0\n",
      "  connection : keep-alive\n",
      "  x-amzn-requestid : 7e3fc4ac-5\n",
      " RetryAttempts : 0\n"
     ]
    }
   ],
   "source": [
    "result = sdk.deleteUser(user='nic1')\n",
    "printDict(result)"
   ]
  },
  {
   "cell_type": "code",
   "execution_count": null,
   "metadata": {},
   "outputs": [],
   "source": []
  }
 ],
 "metadata": {
  "kernelspec": {
   "display_name": "python38",
   "language": "python",
   "name": "python38"
  }
 },
 "nbformat": 4,
 "nbformat_minor": 4
}
