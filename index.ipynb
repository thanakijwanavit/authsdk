{
 "cells": [
  {
   "cell_type": "code",
   "execution_count": null,
   "metadata": {},
   "outputs": [],
   "source": [
    "#hide"
   ]
  },
  {
   "cell_type": "markdown",
   "metadata": {},
   "source": [
    "# villaAuthSdk\n",
    "\n",
    "> interact with villa authentication backend"
   ]
  },
  {
   "cell_type": "markdown",
   "metadata": {},
   "source": [
    "## Install"
   ]
  },
  {
   "cell_type": "markdown",
   "metadata": {},
   "source": [
    "`pip install villaAuthSdk`"
   ]
  },
  {
   "cell_type": "markdown",
   "metadata": {},
   "source": [
    "## How to use"
   ]
  },
  {
   "cell_type": "markdown",
   "metadata": {},
   "source": [
    "create an auth object"
   ]
  },
  {
   "cell_type": "code",
   "execution_count": null,
   "metadata": {},
   "outputs": [],
   "source": [
    "from villaAuthSdk.auth import AuthSdk\n",
    "from nicHelper.dictUtil import printDict"
   ]
  },
  {
   "cell_type": "code",
   "execution_count": null,
   "metadata": {},
   "outputs": [],
   "source": [
    "authSdk=AuthSdk(user=None,pw=None,region='ap-southeast-1')\n",
    "## user and pw here are the aws key/secret for your client"
   ]
  },
  {
   "cell_type": "markdown",
   "metadata": {},
   "source": [
    "## login"
   ]
  },
  {
   "cell_type": "code",
   "execution_count": null,
   "metadata": {},
   "outputs": [
    {
     "name": "stdout",
     "output_type": "stream",
     "text": [
      "AccessKeyId : ASIAVX4Z5T\n",
      "SecretKey : I1Tt/7LxhM\n",
      "SessionToken : IQoJb3JpZ2\n",
      "Expiration : 1605681332.0\n",
      "AccessToken : eyJraWQiOi\n",
      "ExpiresIn : 3600\n",
      "TokenType : Bearer\n",
      "RefreshToken : eyJjdHkiOi\n",
      "IdToken : eyJraWQiOi\n",
      "NewDeviceMetadata\n",
      " DeviceKey : ap-southea\n",
      " DeviceGroupKey : -lt0cpemm\n"
     ]
    }
   ],
   "source": [
    "result=authSdk.auth(user='nic1',pw='12345678')\n",
    "printDict(result)"
   ]
  },
  {
   "cell_type": "markdown",
   "metadata": {},
   "source": [
    "## Create new user"
   ]
  },
  {
   "cell_type": "code",
   "execution_count": null,
   "metadata": {},
   "outputs": [
    {
     "name": "stdout",
     "output_type": "stream",
     "text": [
      "success : True\n",
      "user : nic5\n"
     ]
    }
   ],
   "source": [
    "result=AuthSdk().createUser(user='nic5',phone='+66828773682',pw='12345678',name='nic3')\n",
    "printDict(result)"
   ]
  },
  {
   "cell_type": "code",
   "execution_count": null,
   "metadata": {},
   "outputs": [],
   "source": []
  }
 ],
 "metadata": {
  "kernelspec": {
   "display_name": "python38",
   "language": "python",
   "name": "python38"
  },
  "language_info": {
   "codemirror_mode": {
    "name": "ipython",
    "version": 3
   },
   "file_extension": ".py",
   "mimetype": "text/x-python",
   "name": "python",
   "nbconvert_exporter": "python",
   "pygments_lexer": "ipython3",
   "version": "3.8.6"
  }
 },
 "nbformat": 4,
 "nbformat_minor": 4
}
