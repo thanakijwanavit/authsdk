{
 "cells": [
  {
   "cell_type": "code",
   "execution_count": 1,
   "metadata": {},
   "outputs": [],
   "source": [
    "#hide"
   ]
  },
  {
   "cell_type": "markdown",
   "metadata": {},
   "source": [
    "# villaAuthSdk\n",
    "\n",
    "> interact with villa authentication backend"
   ]
  },
  {
   "cell_type": "markdown",
   "metadata": {},
   "source": [
    "## Install"
   ]
  },
  {
   "cell_type": "markdown",
   "metadata": {},
   "source": [
    "`pip install villaAuthSdk`"
   ]
  },
  {
   "cell_type": "markdown",
   "metadata": {},
   "source": [
    "## How to use"
   ]
  },
  {
   "cell_type": "markdown",
   "metadata": {},
   "source": [
    "create an auth object"
   ]
  },
  {
   "cell_type": "code",
   "execution_count": 2,
   "metadata": {},
   "outputs": [],
   "source": [
    "from villaAuthSdk.auth import AuthSdk\n",
    "from nicHelper.dictUtil import printDict"
   ]
  },
  {
   "cell_type": "code",
   "execution_count": 3,
   "metadata": {},
   "outputs": [],
   "source": [
    "sdk=AuthSdk(user=None,pw=None,region='ap-southeast-1')\n",
    "## user and pw here are the aws key/secret for your client"
   ]
  },
  {
   "cell_type": "markdown",
   "metadata": {},
   "source": [
    "## Create cashier"
   ]
  },
  {
   "cell_type": "code",
   "execution_count": 4,
   "metadata": {},
   "outputs": [
    {
     "data": {
      "text/plain": [
       "{'error': {'success': False, 'error': 'user exists'}}"
      ]
     },
     "execution_count": 4,
     "metadata": {},
     "output_type": "execute_result"
    }
   ],
   "source": [
    "sdk.createCashier({\n",
    "  'user': 'nic1',\n",
    "  'phone': '+66816684442',\n",
    "  'pw': '12345678',\n",
    "  'name': 'nic',\n",
    "  'cashierId': '001'\n",
    "})"
   ]
  },
  {
   "cell_type": "markdown",
   "metadata": {},
   "source": [
    "## login"
   ]
  },
  {
   "cell_type": "code",
   "execution_count": 5,
   "metadata": {},
   "outputs": [
    {
     "name": "stdout",
     "output_type": "stream",
     "text": [
      "AccessKeyId : ASIAVX4Z5T\n",
      "SecretKey : o1qAVyorpS\n",
      "SessionToken : IQoJb3JpZ2\n",
      "Expiration : 1606982839.0\n",
      "AccessToken : eyJraWQiOi\n",
      "ExpiresIn : 3600\n",
      "TokenType : Bearer\n",
      "RefreshToken : eyJjdHkiOi\n",
      "IdToken : eyJraWQiOi\n",
      "NewDeviceMetadata\n",
      " DeviceKey : ap-southea\n",
      " DeviceGroupKey : -lt0cpemm\n",
      "userInfo\n",
      " Username : nic1\n",
      " UserCreateDate : 1606979178.878\n",
      " UserLastModifiedDate : 1606979187.598\n",
      " Enabled : True\n",
      " UserStatus : CONFIRMED\n",
      " ResponseMetadata\n",
      "  RequestId : 967101ea-a\n",
      "  HTTPStatusCode : 200\n",
      "  HTTPHeaders\n",
      "   date : Thu, 03 De\n",
      "   content-type : applicatio\n",
      "   content-length : 384\n",
      "   connection : keep-alive\n",
      "   x-amzn-requestid : 967101ea-a\n",
      "  RetryAttempts : 0\n",
      "kwUserAttrib\n",
      " sub : e9d7b27f-1\n",
      " name : nic\n",
      " custom:cashierCode : 1234\n",
      " phone_number_verified : true\n",
      " phone_number : +668166844\n"
     ]
    }
   ],
   "source": [
    "result = sdk.auth(user='nic1',pw='12345678')\n",
    "printDict(result)"
   ]
  },
  {
   "cell_type": "markdown",
   "metadata": {},
   "source": [
    "# Confirm\n",
    "confirm phone/email"
   ]
  },
  {
   "cell_type": "code",
   "execution_count": 6,
   "metadata": {},
   "outputs": [
    {
     "name": "stdout",
     "output_type": "stream",
     "text": [
      "error\n",
      " pickledb64string : gASVTQUAAA\n",
      " error : confirmati\n"
     ]
    }
   ],
   "source": [
    "result=sdk.confirm(user='nic1', code= '123')\n",
    "printDict(result)"
   ]
  },
  {
   "cell_type": "markdown",
   "metadata": {},
   "source": [
    "## Get Profile"
   ]
  },
  {
   "cell_type": "code",
   "execution_count": 7,
   "metadata": {},
   "outputs": [
    {
     "name": "stdout",
     "output_type": "stream",
     "text": [
      "Username : nic1\n",
      "UserAttributes\n",
      " sub : e9d7b27f-1\n",
      " name : nic\n",
      " custom:cashierCode : 1234\n",
      " phone_number_verified : true\n",
      " phone_number : +668166844\n",
      "UserCreateDate : 1606979178.878\n",
      "UserLastModifiedDate : 1606979187.598\n",
      "Enabled : True\n",
      "UserStatus : CONFIRMED\n",
      "ResponseMetadata\n",
      " RequestId : 3389f49f-1\n",
      " HTTPStatusCode : 200\n",
      " HTTPHeaders\n",
      "  date : Thu, 03 De\n",
      "  content-type : applicatio\n",
      "  content-length : 384\n",
      "  connection : keep-alive\n",
      "  x-amzn-requestid : 3389f49f-1\n",
      " RetryAttempts : 0\n"
     ]
    }
   ],
   "source": [
    "result=sdk.getProfile('nic1')\n",
    "printDict(result)"
   ]
  },
  {
   "cell_type": "markdown",
   "metadata": {},
   "source": [
    "## update Profile"
   ]
  },
  {
   "cell_type": "code",
   "execution_count": 8,
   "metadata": {},
   "outputs": [
    {
     "name": "stdout",
     "output_type": "stream",
     "text": [
      "Username : nic1\n",
      "UserAttributes\n",
      " sub : e9d7b27f-1\n",
      " name : nic\n",
      " custom:cashierCode : 1234\n",
      " phone_number_verified : true\n",
      " phone_number : +668166844\n",
      "UserCreateDate : 1606979178.878\n",
      "UserLastModifiedDate : 1606979240.499\n",
      "Enabled : True\n",
      "UserStatus : CONFIRMED\n",
      "ResponseMetadata\n",
      " RequestId : bd608749-5\n",
      " HTTPStatusCode : 200\n",
      " HTTPHeaders\n",
      "  date : Thu, 03 De\n",
      "  content-type : applicatio\n",
      "  content-length : 384\n",
      "  connection : keep-alive\n",
      "  x-amzn-requestid : bd608749-5\n",
      " RetryAttempts : 0\n"
     ]
    }
   ],
   "source": [
    "result = sdk.updateProfile(\n",
    "  user= 'nic1',\n",
    "  attributes= {\n",
    "    'custom:cashierCode': '1234'\n",
    "  })\n",
    "printDict(result)"
   ]
  },
  {
   "cell_type": "markdown",
   "metadata": {},
   "source": [
    "## set password"
   ]
  },
  {
   "cell_type": "code",
   "execution_count": 9,
   "metadata": {},
   "outputs": [
    {
     "data": {
      "text/plain": [
       "{'ResponseMetadata': {'RequestId': '91264b04-24e1-4d33-91a4-c3fa57d0ab9f',\n",
       "  'HTTPStatusCode': 200,\n",
       "  'HTTPHeaders': {'date': 'Thu, 03 Dec 2020 07:07:20 GMT',\n",
       "   'content-type': 'application/x-amz-json-1.1',\n",
       "   'content-length': '2',\n",
       "   'connection': 'keep-alive',\n",
       "   'x-amzn-requestid': '91264b04-24e1-4d33-91a4-c3fa57d0ab9f'},\n",
       "  'RetryAttempts': 0}}"
      ]
     },
     "execution_count": 9,
     "metadata": {},
     "output_type": "execute_result"
    }
   ],
   "source": [
    "sdk.setPassword(user='nic1',pw='12345678')"
   ]
  },
  {
   "cell_type": "markdown",
   "metadata": {},
   "source": [
    "## Unauth\n",
    "get unauthenticated credentials"
   ]
  },
  {
   "cell_type": "code",
   "execution_count": 10,
   "metadata": {},
   "outputs": [
    {
     "name": "stdout",
     "output_type": "stream",
     "text": [
      "AccessKeyId : ASIAVX4Z5T\n",
      "SecretKey : b7AlLovozg\n",
      "SessionToken : IQoJb3JpZ2\n",
      "Expiration : 1606982840.0\n"
     ]
    }
   ],
   "source": [
    "result = sdk.unauth()\n",
    "printDict(result)"
   ]
  },
  {
   "cell_type": "markdown",
   "metadata": {},
   "source": [
    "## DeleteUser"
   ]
  },
  {
   "cell_type": "code",
   "execution_count": 12,
   "metadata": {},
   "outputs": [
    {
     "name": "stdout",
     "output_type": "stream",
     "text": [
      "ResponseMetadata\n",
      " RequestId : 80b0feef-c\n",
      " HTTPStatusCode : 200\n",
      " HTTPHeaders\n",
      "  date : Thu, 03 De\n",
      "  content-type : applicatio\n",
      "  content-length : 0\n",
      "  connection : keep-alive\n",
      "  x-amzn-requestid : 80b0feef-c\n",
      " RetryAttempts : 0\n"
     ]
    }
   ],
   "source": [
    "result = sdk.deleteUser(user='nic1')\n",
    "printDict(result)"
   ]
  },
  {
   "cell_type": "code",
   "execution_count": null,
   "metadata": {},
   "outputs": [],
   "source": []
  }
 ],
 "metadata": {
  "kernelspec": {
   "display_name": "python38",
   "language": "python",
   "name": "python38"
  },
  "language_info": {
   "codemirror_mode": {
    "name": "ipython",
    "version": 3
   },
   "file_extension": ".py",
   "mimetype": "text/x-python",
   "name": "python",
   "nbconvert_exporter": "python",
   "pygments_lexer": "ipython3",
   "version": "3.8.6"
  }
 },
 "nbformat": 4,
 "nbformat_minor": 4
}
