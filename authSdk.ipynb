{
 "cells": [
  {
   "cell_type": "code",
   "execution_count": null,
   "metadata": {},
   "outputs": [],
   "source": [
    "# default_exp auth"
   ]
  },
  {
   "cell_type": "markdown",
   "metadata": {},
   "source": [
    "# auth\n",
    "\n",
    "> python sdk for interacting with aws backend"
   ]
  },
  {
   "cell_type": "code",
   "execution_count": 5,
   "metadata": {},
   "outputs": [],
   "source": [
    "#hide\n",
    "from nbdev.showdoc import *"
   ]
  },
  {
   "cell_type": "code",
   "execution_count": 17,
   "metadata": {},
   "outputs": [],
   "source": [
    "#export\n",
    "from nicHelper.wrappers import add_method\n",
    "from lambdasdk.lambdasdk import Lambda\n",
    "from awsSchema.apigateway import Event, Response\n",
    "from nicHelper.dictUtil import printDict\n",
    "from nicHelper.exception import errorString\n",
    "from dataclasses import dataclass\n",
    "from dataclasses_json import dataclass_json"
   ]
  },
  {
   "cell_type": "code",
   "execution_count": 56,
   "metadata": {},
   "outputs": [],
   "source": [
    "#export\n",
    "class FunctionName:\n",
    "  def __init__(self, branch, appName):\n",
    "    self.branch = branch; self.appName=appName\n",
    "  def getName(self,function):\n",
    "    return f'{self.appName}-{self.branch}-{function}'\n",
    "    \n",
    "class AuthSdk:\n",
    "  def __init__(\n",
    "    self,\n",
    "    user = None,\n",
    "    pw = None,\n",
    "    sessionToken = None,\n",
    "    region = 'ap-southeast-1',\n",
    "    branch = 'dev-blank',\n",
    "    appName = 'villa-employee'\n",
    "    ):\n",
    "    self.lambda_ = Lambda(user = user, pw = pw, sessionToken= sessionToken, region = region)\n",
    "    self.functionName = FunctionName(branch, appName)\n",
    "    \n",
    "  def generalInvoke(self, body={}, function= 'unauth'):\n",
    "    functionName = self.functionName.getName(function)\n",
    "    event = Event.getInput(body=body)\n",
    "    response = self.lambda_.invoke(functionName=functionName, input=event)\n",
    "    try: return Response.parseBody(response)\n",
    "    except: return response\n",
    "  "
   ]
  },
  {
   "cell_type": "code",
   "execution_count": 57,
   "metadata": {},
   "outputs": [],
   "source": [
    "#hide\n",
    "sdk = AuthSdk()\n",
    "# sdk.lambda_.invoke(functionName = 'test', input = {'test':'test'})"
   ]
  },
  {
   "cell_type": "code",
   "execution_count": 60,
   "metadata": {},
   "outputs": [],
   "source": [
    "#export\n",
    "@dataclass_json\n",
    "@dataclass\n",
    "class CreateCashier:\n",
    "  user: str\n",
    "  phone: str\n",
    "  pw: str\n",
    "  name: str\n",
    "  cashierId: str\n",
    "    \n",
    "@add_method(AuthSdk)\n",
    "def createCashier(self,data={}, function= 'createCashier'):\n",
    "  payload = CreateCashier(**data).to_dict()\n",
    "  return self.generalInvoke(body=payload,function=function)"
   ]
  },
  {
   "cell_type": "code",
   "execution_count": 61,
   "metadata": {},
   "outputs": [
    {
     "data": {
      "text/plain": [
       "{'error': {'success': False, 'error': 'user exists'}}"
      ]
     },
     "execution_count": 61,
     "metadata": {},
     "output_type": "execute_result"
    }
   ],
   "source": [
    "sdk.createCashier({\n",
    "  'user': 'nic1',\n",
    "  'phone': '+66816684442',\n",
    "  'pw': '12345678',\n",
    "  'name': 'nic',\n",
    "  'cashierId': '001'\n",
    "})"
   ]
  },
  {
   "cell_type": "code",
   "execution_count": 73,
   "metadata": {},
   "outputs": [],
   "source": [
    "#export\n",
    "@dataclass_json\n",
    "@dataclass\n",
    "class Auth:\n",
    "  user: str\n",
    "  password: str\n",
    "@add_method(AuthSdk)\n",
    "def auth(self,user,pw, function= 'auth'):\n",
    "  payload = Auth(user=user, password=pw).to_dict()\n",
    "  return self.generalInvoke(body=payload,function=function)"
   ]
  },
  {
   "cell_type": "code",
   "execution_count": 74,
   "metadata": {},
   "outputs": [
    {
     "name": "stdout",
     "output_type": "stream",
     "text": [
      "AccessKeyId : ASIAVX4Z5T\n",
      "SecretKey : 1FU7+fVGLL\n",
      "SessionToken : IQoJb3JpZ2\n",
      "Expiration : 1606978696.0\n",
      "AccessToken : eyJraWQiOi\n",
      "ExpiresIn : 3600\n",
      "TokenType : Bearer\n",
      "RefreshToken : eyJjdHkiOi\n",
      "IdToken : eyJraWQiOi\n",
      "NewDeviceMetadata\n",
      " DeviceKey : ap-southea\n",
      " DeviceGroupKey : -lt0cpemm\n",
      "userInfo\n",
      " Username : nic1\n",
      " UserCreateDate : 1606963203.881\n",
      " UserLastModifiedDate : 1606963203.881\n",
      " Enabled : True\n",
      " UserStatus : CONFIRMED\n",
      " ResponseMetadata\n",
      "  RequestId : 1cfc5822-9\n",
      "  HTTPStatusCode : 200\n",
      "  HTTPHeaders\n",
      "   date : Thu, 03 De\n",
      "   content-type : applicatio\n",
      "   content-length : 339\n",
      "   connection : keep-alive\n",
      "   x-amzn-requestid : 1cfc5822-9\n",
      "  RetryAttempts : 0\n",
      "kwUserAttrib\n",
      " sub : d7ca5125-6\n",
      " name : nic\n",
      " phone_number_verified : true\n",
      " phone_number : +668166844\n"
     ]
    }
   ],
   "source": [
    "result = AuthSdk().auth(user='nic1',pw='12345678')\n",
    "printDict(result)"
   ]
  },
  {
   "cell_type": "code",
   "execution_count": 75,
   "metadata": {},
   "outputs": [],
   "source": [
    "# result"
   ]
  },
  {
   "cell_type": "code",
   "execution_count": 82,
   "metadata": {},
   "outputs": [],
   "source": [
    "#export\n",
    "@dataclass_json\n",
    "@dataclass\n",
    "class Confirm:\n",
    "  user: str\n",
    "  code: str\n",
    "@add_method(AuthSdk)\n",
    "def confirm(self,user:str, code:str, function:str='confirm', **kwargs):\n",
    "  payload = Confirm(user=user, code=code).to_dict()\n",
    "  return self.generalInvoke(body=payload, function=function)"
   ]
  },
  {
   "cell_type": "code",
   "execution_count": 84,
   "metadata": {},
   "outputs": [
    {
     "name": "stdout",
     "output_type": "stream",
     "text": [
      "error\n",
      " pickledb64string : gASVTQUAAA\n",
      " error : confirmati\n"
     ]
    }
   ],
   "source": [
    "result=AuthSdk().confirm('nic1', '123')\n",
    "printDict(result)"
   ]
  },
  {
   "cell_type": "code",
   "execution_count": 95,
   "metadata": {},
   "outputs": [],
   "source": [
    "#export\n",
    "@dataclass_json\n",
    "@dataclass\n",
    "class GetProfile:\n",
    "  user: str\n",
    "    \n",
    "@add_method(AuthSdk)\n",
    "def getProfile(self,user:str, function:str='getProfile', **kwargs):\n",
    "  payload = GetProfile(user=user).to_dict()\n",
    "  return self.generalInvoke(body=payload, function=function)"
   ]
  },
  {
   "cell_type": "code",
   "execution_count": 104,
   "metadata": {},
   "outputs": [
    {
     "name": "stdout",
     "output_type": "stream",
     "text": [
      "Username : nic1\n",
      "UserAttributes\n",
      " sub : d7ca5125-6\n",
      " name : nic\n",
      " custom:cashierCode : 1234\n",
      " phone_number_verified : true\n",
      " phone_number : +668166844\n",
      "UserCreateDate : 1606963203.881\n",
      "UserLastModifiedDate : 1606977796.225\n",
      "Enabled : True\n",
      "UserStatus : CONFIRMED\n",
      "ResponseMetadata\n",
      " RequestId : 263aff07-3\n",
      " HTTPStatusCode : 200\n",
      " HTTPHeaders\n",
      "  date : Thu, 03 De\n",
      "  content-type : applicatio\n",
      "  content-length : 384\n",
      "  connection : keep-alive\n",
      "  x-amzn-requestid : 263aff07-3\n",
      " RetryAttempts : 0\n"
     ]
    }
   ],
   "source": [
    "result=sdk.getProfile('nic1')\n",
    "printDict(result)"
   ]
  },
  {
   "cell_type": "code",
   "execution_count": 106,
   "metadata": {},
   "outputs": [],
   "source": [
    "#export\n",
    "@dataclass_json\n",
    "@dataclass\n",
    "class UpdateProfile:\n",
    "  user: str\n",
    "  attributes: dict\n",
    "    \n",
    "@add_method(AuthSdk)\n",
    "def updateProfile(self,user:str, attributes:dict, function:str='updateProfile', **kwargs):\n",
    "  payload = UpdateProfile(user=user, attributes=attributes).to_dict()\n",
    "  return self.generalInvoke(body=payload, function=function)"
   ]
  },
  {
   "cell_type": "code",
   "execution_count": 109,
   "metadata": {},
   "outputs": [
    {
     "name": "stdout",
     "output_type": "stream",
     "text": [
      "Username : nic1\n",
      "UserAttributes\n",
      " sub : d7ca5125-6\n",
      " name : nic\n",
      " custom:cashierCode : 1234\n",
      " phone_number_verified : true\n",
      " phone_number : +668166844\n",
      "UserCreateDate : 1606963203.881\n",
      "UserLastModifiedDate : 1606978149.418\n",
      "Enabled : True\n",
      "UserStatus : CONFIRMED\n",
      "ResponseMetadata\n",
      " RequestId : 442f9a54-2\n",
      " HTTPStatusCode : 200\n",
      " HTTPHeaders\n",
      "  date : Thu, 03 De\n",
      "  content-type : applicatio\n",
      "  content-length : 384\n",
      "  connection : keep-alive\n",
      "  x-amzn-requestid : 442f9a54-2\n",
      " RetryAttempts : 0\n"
     ]
    }
   ],
   "source": [
    "result = sdk.updateProfile(**{\n",
    "  'user': 'nic1',\n",
    "  'attributes': {\n",
    "    'custom:cashierCode': '1234'\n",
    "  }\n",
    "})\n",
    "printDict(result)"
   ]
  },
  {
   "cell_type": "code",
   "execution_count": 111,
   "metadata": {},
   "outputs": [],
   "source": [
    "#export\n",
    "@dataclass_json\n",
    "@dataclass\n",
    "class SetPassword:\n",
    "  user: str\n",
    "  pw: str\n",
    "    \n",
    "@add_method(AuthSdk)\n",
    "def setPassword(self,user:str, pw:str, function:str='setPassword', **kwargs):\n",
    "  payload = SetPassword(user=user, pw=pw).to_dict()\n",
    "  return self.generalInvoke(body=payload, function=function)"
   ]
  },
  {
   "cell_type": "code",
   "execution_count": 112,
   "metadata": {},
   "outputs": [
    {
     "data": {
      "text/plain": [
       "{'ResponseMetadata': {'RequestId': '323fd8b0-0aed-479c-9be5-588089a2970d',\n",
       "  'HTTPStatusCode': 200,\n",
       "  'HTTPHeaders': {'date': 'Thu, 03 Dec 2020 06:50:53 GMT',\n",
       "   'content-type': 'application/x-amz-json-1.1',\n",
       "   'content-length': '2',\n",
       "   'connection': 'keep-alive',\n",
       "   'x-amzn-requestid': '323fd8b0-0aed-479c-9be5-588089a2970d'},\n",
       "  'RetryAttempts': 0}}"
      ]
     },
     "execution_count": 112,
     "metadata": {},
     "output_type": "execute_result"
    }
   ],
   "source": [
    "sdk.setPassword(user='nic1',pw='12345678')"
   ]
  },
  {
   "cell_type": "code",
   "execution_count": 117,
   "metadata": {},
   "outputs": [],
   "source": [
    "@add_method(AuthSdk)\n",
    "def unauth(self, function:str='unauth', **kwargs):\n",
    "  return self.generalInvoke(body={}, function=function)"
   ]
  },
  {
   "cell_type": "code",
   "execution_count": 118,
   "metadata": {},
   "outputs": [
    {
     "name": "stdout",
     "output_type": "stream",
     "text": [
      "AccessKeyId : ASIAVX4Z5T\n",
      "SecretKey : wW377g9c54\n",
      "SessionToken : IQoJb3JpZ2\n",
      "Expiration : 1606981946.0\n"
     ]
    }
   ],
   "source": [
    "result = sdk.unauth()\n",
    "printDict(result)"
   ]
  },
  {
   "cell_type": "code",
   "execution_count": null,
   "metadata": {},
   "outputs": [],
   "source": []
  }
 ],
 "metadata": {
  "kernelspec": {
   "display_name": "python38",
   "language": "python",
   "name": "python38"
  },
  "language_info": {
   "codemirror_mode": {
    "name": "ipython",
    "version": 3
   },
   "file_extension": ".py",
   "mimetype": "text/x-python",
   "name": "python",
   "nbconvert_exporter": "python",
   "pygments_lexer": "ipython3",
   "version": "3.8.6"
  }
 },
 "nbformat": 4,
 "nbformat_minor": 4
}
