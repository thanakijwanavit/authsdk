{
 "cells": [
  {
   "cell_type": "code",
   "execution_count": null,
   "metadata": {},
   "outputs": [],
   "source": [
    "# default_exp auth"
   ]
  },
  {
   "cell_type": "markdown",
   "metadata": {},
   "source": [
    "# auth\n",
    "\n",
    "> python sdk for interacting with aws backend"
   ]
  },
  {
   "cell_type": "code",
   "execution_count": null,
   "metadata": {},
   "outputs": [],
   "source": [
    "#hide\n",
    "from nbdev.showdoc import *"
   ]
  },
  {
   "cell_type": "code",
   "execution_count": null,
   "metadata": {},
   "outputs": [],
   "source": [
    "#export\n",
    "from nicHelper.wrappers import add_method\n",
    "from lambdasdk.lambdasdk import Lambda\n",
    "from awsSchema.apigateway import Event, Response\n",
    "from nicHelper.dictUtil import printDict\n",
    "from nicHelper.exception import errorString"
   ]
  },
  {
   "cell_type": "code",
   "execution_count": null,
   "metadata": {},
   "outputs": [],
   "source": [
    "#export\n",
    "class AuthSdk:\n",
    "  def __init__(\n",
    "    self,\n",
    "    user = None,\n",
    "    pw = None,\n",
    "    sessionToken = None,\n",
    "    region = 'ap-southeast-1'\n",
    "    ):\n",
    "    self.lambda_ = Lambda(user = user, pw = pw, sessionToken= sessionToken, region = region)\n",
    "    \n",
    "  def generalInvoke(self, body={}, functionName= ''):\n",
    "    event = Event.getInput(body=body)\n",
    "    response = self.lambda_.invoke(functionName=functionName, input=event)\n",
    "    try: return Response.parseBody(response)\n",
    "    except: return response\n",
    "  "
   ]
  },
  {
   "cell_type": "code",
   "execution_count": null,
   "metadata": {},
   "outputs": [],
   "source": [
    "#hide\n",
    "sdk = AuthSdk()\n",
    "# sdk.lambda_.invoke(functionName = 'test', input = {'test':'test'})"
   ]
  },
  {
   "cell_type": "code",
   "execution_count": null,
   "metadata": {},
   "outputs": [],
   "source": [
    "#export\n",
    "@add_method(AuthSdk)\n",
    "def auth(self,user,pw,functionName= 'villaAuth-Auth-13UCAIBB6FOHA'):\n",
    "  return self.generalInvoke(body={'user':user,'password':pw},functionName=functionName)"
   ]
  },
  {
   "cell_type": "code",
   "execution_count": null,
   "metadata": {},
   "outputs": [
    {
     "name": "stdout",
     "output_type": "stream",
     "text": [
      "AccessKeyId : ASIAVX4Z5T\n",
      "SecretKey : Xf7MfDSNNU\n",
      "SessionToken : IQoJb3JpZ2\n",
      "Expiration : 1605782649.0\n",
      "AccessToken : eyJraWQiOi\n",
      "ExpiresIn : 3600\n",
      "TokenType : Bearer\n",
      "RefreshToken : eyJjdHkiOi\n",
      "IdToken : eyJraWQiOi\n",
      "NewDeviceMetadata\n",
      " DeviceKey : ap-southea\n",
      " DeviceGroupKey : -lt0cpemm\n"
     ]
    }
   ],
   "source": [
    "result = AuthSdk().auth(user='nic1',pw='12345678')\n",
    "printDict(result)"
   ]
  },
  {
   "cell_type": "code",
   "execution_count": null,
   "metadata": {},
   "outputs": [],
   "source": [
    "#export\n",
    "@add_method(AuthSdk)\n",
    "def createUser(self,functionName='villaAuth-CreateUser-ECLM1M2B9LPJ', **kwargs):\n",
    "  return self.generalInvoke(body=kwargs,functionName=functionName)"
   ]
  },
  {
   "cell_type": "code",
   "execution_count": null,
   "metadata": {},
   "outputs": [
    {
     "name": "stdout",
     "output_type": "stream",
     "text": [
      "error : Traceback \n"
     ]
    }
   ],
   "source": [
    "result=AuthSdk().createUser(user='nic6',phone='+66828773682',pw='12345678',name='nic3')\n",
    "printDict(result)"
   ]
  },
  {
   "cell_type": "code",
   "execution_count": null,
   "metadata": {},
   "outputs": [],
   "source": []
  }
 ],
 "metadata": {
  "kernelspec": {
   "display_name": "python38",
   "language": "python",
   "name": "python38"
  }
 },
 "nbformat": 4,
 "nbformat_minor": 4
}
