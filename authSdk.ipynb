{
 "cells": [
  {
   "cell_type": "code",
   "execution_count": null,
   "metadata": {},
   "outputs": [],
   "source": [
    "# default_exp auth"
   ]
  },
  {
   "cell_type": "markdown",
   "metadata": {},
   "source": [
    "# auth\n",
    "\n",
    "> python sdk for interacting with aws backend"
   ]
  },
  {
   "cell_type": "code",
   "execution_count": null,
   "metadata": {},
   "outputs": [],
   "source": [
    "#hide\n",
    "from nbdev.showdoc import *"
   ]
  },
  {
   "cell_type": "code",
   "execution_count": null,
   "metadata": {},
   "outputs": [],
   "source": [
    "#export\n",
    "from nicHelper.wrappers import add_method\n",
    "from lambdasdk.lambdasdk import Lambda\n",
    "from awsSchema.apigateway import Event, Response\n",
    "from nicHelper.dictUtil import printDict\n",
    "from nicHelper.exception import errorString\n",
    "from dataclasses import dataclass\n",
    "from dataclasses_json import dataclass_json\n",
    "from typing import Optional"
   ]
  },
  {
   "cell_type": "code",
   "execution_count": null,
   "metadata": {},
   "outputs": [],
   "source": [
    "#export\n",
    "class FunctionName:\n",
    "  def __init__(self, branch, appName):\n",
    "    self.branch = branch; self.appName=appName\n",
    "  def getName(self,function):\n",
    "    return f'{self.appName}-{self.branch}-{function}'\n",
    "    \n",
    "class AuthSdk:\n",
    "  def __init__(\n",
    "    self,\n",
    "    user = None,\n",
    "    pw = None,\n",
    "    sessionToken = None,\n",
    "    region = 'ap-southeast-1',\n",
    "    branch = 'dev-blank',\n",
    "    appName = 'villa-employee'\n",
    "    ):\n",
    "    self.lambda_ = Lambda(user = user, pw = pw, sessionToken= sessionToken, region = region)\n",
    "    self.functionName = FunctionName(branch, appName)\n",
    "    \n",
    "  def generalInvoke(self, body={}, function= 'unauth'):\n",
    "    functionName = self.functionName.getName(function)\n",
    "    event = Event.getInput(body=body)\n",
    "    response = self.lambda_.invoke(functionName=functionName, input=event)\n",
    "    try: return Response.parseBody(response)\n",
    "    except: return response\n",
    "  "
   ]
  },
  {
   "cell_type": "code",
   "execution_count": null,
   "metadata": {},
   "outputs": [],
   "source": [
    "#hide\n",
    "sdk = AuthSdk()\n",
    "# sdk.lambda_.invoke(functionName = 'test', input = {'test':'test'})"
   ]
  },
  {
   "cell_type": "code",
   "execution_count": null,
   "metadata": {},
   "outputs": [],
   "source": [
    "#export\n",
    "@dataclass_json\n",
    "@dataclass\n",
    "class CreateCashier:\n",
    "  user: str\n",
    "  phone: str\n",
    "  pw: str\n",
    "  name: str\n",
    "  cashierCode: str\n",
    "  email: Optional[str] = None\n",
    "    \n",
    "@add_method(AuthSdk)\n",
    "def createCashier(self,data={}, function= 'createCashier'):\n",
    "  payload = CreateCashier(**data).to_dict()\n",
    "  return self.generalInvoke(body=payload,function=function)"
   ]
  },
  {
   "cell_type": "code",
   "execution_count": null,
   "metadata": {},
   "outputs": [
    {
     "data": {
      "text/plain": [
       "{'success': True,\n",
       " 'user': 'nic1',\n",
       " 'phone': '+66816684442',\n",
       " 'pw': '12345678',\n",
       " 'name': 'nic',\n",
       " 'cashierCode': '001',\n",
       " 'email': 'test@gmail.com',\n",
       " 'body': '{\"error\":\"error updating An error occurred (AccessDeniedException) when calling the AdminUpdateUserAttributes operation: User: arn:aws:sts::394922924679:assumed-role\\\\/villaAuth-CreateCashierRole-VIHI2IVRWMHH\\\\/villa-employee-dev-blank-createCashier is not authorized to perform: cognito-idp:AdminUpdateUserAttributes on resource: arn:aws:cognito-idp:ap-southeast-1:394922924679:userpool\\\\/ap-southeast-1_QMI1IzkEx\"}',\n",
       " 'statusCode': 400,\n",
       " 'headers': {'Access-Control-Allow-Headers': '*',\n",
       "  'Access-Control-Allow-Origin': '*',\n",
       "  'Access-Control-Allow-Methods': '*'}}"
      ]
     },
     "execution_count": null,
     "metadata": {},
     "output_type": "execute_result"
    }
   ],
   "source": [
    "sdk.createCashier({\n",
    "  'user': 'nic1',\n",
    "  'phone': '+66816684442',\n",
    "  'pw': '12345678',\n",
    "  'name': 'nic',\n",
    "  'cashierCode': '001',\n",
    "  'email': 'test@gmail.com'\n",
    "})"
   ]
  },
  {
   "cell_type": "code",
   "execution_count": null,
   "metadata": {},
   "outputs": [],
   "source": [
    "#export\n",
    "@dataclass_json\n",
    "@dataclass\n",
    "class Auth:\n",
    "  user: str\n",
    "  password: str\n",
    "@add_method(AuthSdk)\n",
    "def auth(self,user,pw, function= 'auth'):\n",
    "  payload = Auth(user=user, password=pw).to_dict()\n",
    "  return self.generalInvoke(body=payload,function=function)"
   ]
  },
  {
   "cell_type": "code",
   "execution_count": null,
   "metadata": {},
   "outputs": [
    {
     "name": "stdout",
     "output_type": "stream",
     "text": [
      "AccessKeyId : ASIAVX4Z5T\n",
      "SecretKey : HvnadpJUKc\n",
      "SessionToken : IQoJb3JpZ2\n",
      "Expiration : 1606998927.0\n",
      "AccessToken : eyJraWQiOi\n",
      "ExpiresIn : 3600\n",
      "TokenType : Bearer\n",
      "RefreshToken : eyJjdHkiOi\n",
      "IdToken : eyJraWQiOi\n",
      "NewDeviceMetadata\n",
      " DeviceKey : ap-southea\n",
      " DeviceGroupKey : -lt0cpemm\n",
      "userInfo\n",
      " Username : nic1\n",
      " UserCreateDate : 1606995325.992\n",
      " UserLastModifiedDate : 1606995325.992\n",
      " Enabled : True\n",
      " UserStatus : CONFIRMED\n",
      " ResponseMetadata\n",
      "  RequestId : eb486e0d-8\n",
      "  HTTPStatusCode : 200\n",
      "  HTTPHeaders\n",
      "   date : Thu, 03 De\n",
      "   content-type : applicatio\n",
      "   content-length : 339\n",
      "   connection : keep-alive\n",
      "   x-amzn-requestid : eb486e0d-8\n",
      "  RetryAttempts : 0\n",
      "kwUserAttrib\n",
      " sub : 33cde0e8-6\n",
      " name : nic\n",
      " phone_number_verified : true\n",
      " phone_number : +668166844\n"
     ]
    }
   ],
   "source": [
    "result = sdk.auth(user='nic1',pw='12345678')\n",
    "printDict(result)"
   ]
  },
  {
   "cell_type": "markdown",
   "metadata": {},
   "source": [
    "## Confirm \n",
    "confirm phone/email of user by confirmation code"
   ]
  },
  {
   "cell_type": "code",
   "execution_count": null,
   "metadata": {},
   "outputs": [],
   "source": [
    "#export\n",
    "@dataclass_json\n",
    "@dataclass\n",
    "class Confirm:\n",
    "  user: str\n",
    "  code: str\n",
    "@add_method(AuthSdk)\n",
    "def confirm(self,user:str, code:str, function:str='confirm', **kwargs):\n",
    "  payload = Confirm(user=user, code=code).to_dict()\n",
    "  return self.generalInvoke(body=payload, function=function)"
   ]
  },
  {
   "cell_type": "code",
   "execution_count": null,
   "metadata": {},
   "outputs": [
    {
     "name": "stdout",
     "output_type": "stream",
     "text": [
      "error\n",
      " pickledb64string : gASVTQUAAA\n",
      " error : confirmati\n"
     ]
    }
   ],
   "source": [
    "result=sdk.confirm('nic1', '123')\n",
    "printDict(result)"
   ]
  },
  {
   "cell_type": "code",
   "execution_count": null,
   "metadata": {},
   "outputs": [],
   "source": [
    "#export\n",
    "@dataclass_json\n",
    "@dataclass\n",
    "class GetProfile:\n",
    "  user: str\n",
    "    \n",
    "@add_method(AuthSdk)\n",
    "def getProfile(self,user:str, function:str='getProfile', **kwargs):\n",
    "  payload = GetProfile(user=user).to_dict()\n",
    "  return self.generalInvoke(body=payload, function=function)"
   ]
  },
  {
   "cell_type": "code",
   "execution_count": null,
   "metadata": {},
   "outputs": [
    {
     "name": "stdout",
     "output_type": "stream",
     "text": [
      "Username : nic1\n",
      "UserAttributes\n",
      " sub : 33cde0e8-6\n",
      " name : nic\n",
      " phone_number_verified : true\n",
      " phone_number : +668166844\n",
      "UserCreateDate : 1606995325.992\n",
      "UserLastModifiedDate : 1606995325.992\n",
      "Enabled : True\n",
      "UserStatus : CONFIRMED\n",
      "ResponseMetadata\n",
      " RequestId : 45bdb065-0\n",
      " HTTPStatusCode : 200\n",
      " HTTPHeaders\n",
      "  date : Thu, 03 De\n",
      "  content-type : applicatio\n",
      "  content-length : 339\n",
      "  connection : keep-alive\n",
      "  x-amzn-requestid : 45bdb065-0\n",
      " RetryAttempts : 0\n"
     ]
    }
   ],
   "source": [
    "result=sdk.getProfile('nic1')\n",
    "printDict(result)"
   ]
  },
  {
   "cell_type": "code",
   "execution_count": null,
   "metadata": {},
   "outputs": [],
   "source": [
    "#export\n",
    "@dataclass_json\n",
    "@dataclass\n",
    "class UpdateProfile:\n",
    "  user: str\n",
    "  attributes: dict\n",
    "    \n",
    "@add_method(AuthSdk)\n",
    "def updateProfile(self,user:str, attributes:dict, function:str='updateProfile', **kwargs):\n",
    "  payload = UpdateProfile(user=user, attributes=attributes).to_dict()\n",
    "  return self.generalInvoke(body=payload, function=function)"
   ]
  },
  {
   "cell_type": "code",
   "execution_count": null,
   "metadata": {},
   "outputs": [
    {
     "name": "stdout",
     "output_type": "stream",
     "text": [
      "Username : nic1\n",
      "UserAttributes\n",
      " sub : 33cde0e8-6\n",
      " name : nic\n",
      " custom:cashierCode : 1234\n",
      " phone_number_verified : true\n",
      " phone_number : +668166844\n",
      "UserCreateDate : 1606995325.992\n",
      "UserLastModifiedDate : 1606995328.322\n",
      "Enabled : True\n",
      "UserStatus : CONFIRMED\n",
      "ResponseMetadata\n",
      " RequestId : b2d28a55-6\n",
      " HTTPStatusCode : 200\n",
      " HTTPHeaders\n",
      "  date : Thu, 03 De\n",
      "  content-type : applicatio\n",
      "  content-length : 384\n",
      "  connection : keep-alive\n",
      "  x-amzn-requestid : b2d28a55-6\n",
      " RetryAttempts : 0\n"
     ]
    }
   ],
   "source": [
    "result = sdk.updateProfile(**{\n",
    "  'user': 'nic1',\n",
    "  'attributes': {\n",
    "    'custom:cashierCode': '1234'\n",
    "  }\n",
    "})\n",
    "printDict(result)"
   ]
  },
  {
   "cell_type": "code",
   "execution_count": null,
   "metadata": {},
   "outputs": [],
   "source": [
    "#export\n",
    "@dataclass_json\n",
    "@dataclass\n",
    "class SetPassword:\n",
    "  user: str\n",
    "  pw: str\n",
    "    \n",
    "@add_method(AuthSdk)\n",
    "def setPassword(self,user:str, pw:str, function:str='setPassword', **kwargs):\n",
    "  payload = SetPassword(user=user, pw=pw).to_dict()\n",
    "  return self.generalInvoke(body=payload, function=function)"
   ]
  },
  {
   "cell_type": "code",
   "execution_count": null,
   "metadata": {},
   "outputs": [
    {
     "data": {
      "text/plain": [
       "{'ResponseMetadata': {'RequestId': 'e535427f-52d0-4218-848e-c386e43dc058',\n",
       "  'HTTPStatusCode': 200,\n",
       "  'HTTPHeaders': {'date': 'Thu, 03 Dec 2020 11:35:28 GMT',\n",
       "   'content-type': 'application/x-amz-json-1.1',\n",
       "   'content-length': '2',\n",
       "   'connection': 'keep-alive',\n",
       "   'x-amzn-requestid': 'e535427f-52d0-4218-848e-c386e43dc058'},\n",
       "  'RetryAttempts': 0}}"
      ]
     },
     "execution_count": null,
     "metadata": {},
     "output_type": "execute_result"
    }
   ],
   "source": [
    "sdk.setPassword(user='nic1',pw='12345678')"
   ]
  },
  {
   "cell_type": "code",
   "execution_count": null,
   "metadata": {},
   "outputs": [],
   "source": [
    "#export\n",
    "@add_method(AuthSdk)\n",
    "def unauth(self, function:str='unauth', **kwargs):\n",
    "  return self.generalInvoke(body={}, function=function)"
   ]
  },
  {
   "cell_type": "code",
   "execution_count": null,
   "metadata": {},
   "outputs": [
    {
     "name": "stdout",
     "output_type": "stream",
     "text": [
      "AccessKeyId : ASIAVX4Z5T\n",
      "SecretKey : +vyrk50YdD\n",
      "SessionToken : IQoJb3JpZ2\n",
      "Expiration : 1606998928.0\n"
     ]
    }
   ],
   "source": [
    "result = sdk.unauth()\n",
    "printDict(result)"
   ]
  },
  {
   "cell_type": "code",
   "execution_count": null,
   "metadata": {},
   "outputs": [],
   "source": [
    "#export\n",
    "@dataclass_json\n",
    "@dataclass\n",
    "class DeleteUser:\n",
    "  user: str\n",
    "    \n",
    "@add_method(AuthSdk)\n",
    "def deleteUser(self,user:str, function:str='deleteUser', **kwargs):\n",
    "  payload = DeleteUser(user=user).to_dict()\n",
    "  return self.generalInvoke(body=payload, function=function)"
   ]
  },
  {
   "cell_type": "code",
   "execution_count": null,
   "metadata": {},
   "outputs": [
    {
     "data": {
      "text/plain": [
       "{'ResponseMetadata': {'RequestId': '6c35e8ac-4426-4b06-82d5-528705afc783',\n",
       "  'HTTPStatusCode': 200,\n",
       "  'HTTPHeaders': {'date': 'Thu, 03 Dec 2020 11:35:28 GMT',\n",
       "   'content-type': 'application/x-amz-json-1.1',\n",
       "   'content-length': '0',\n",
       "   'connection': 'keep-alive',\n",
       "   'x-amzn-requestid': '6c35e8ac-4426-4b06-82d5-528705afc783'},\n",
       "  'RetryAttempts': 0}}"
      ]
     },
     "execution_count": null,
     "metadata": {},
     "output_type": "execute_result"
    }
   ],
   "source": [
    "sdk.deleteUser(user='nic1')"
   ]
  },
  {
   "cell_type": "code",
   "execution_count": null,
   "metadata": {},
   "outputs": [],
   "source": []
  }
 ],
 "metadata": {
  "kernelspec": {
   "display_name": "python38",
   "language": "python",
   "name": "python38"
  }
 },
 "nbformat": 4,
 "nbformat_minor": 4
}
